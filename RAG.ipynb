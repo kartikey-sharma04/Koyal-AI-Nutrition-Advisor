{
 "cells": [
  {
   "cell_type": "code",
   "execution_count": 1,
   "id": "4f2bad61",
   "metadata": {},
   "outputs": [
    {
     "data": {
      "text/plain": [
       "True"
      ]
     },
     "execution_count": 1,
     "metadata": {},
     "output_type": "execute_result"
    }
   ],
   "source": [
    "import streamlit as st\n",
    "from langchain.document_loaders import DirectoryLoader, TextLoader\n",
    "from langchain.text_splitter import RecursiveCharacterTextSplitter\n",
    "from langchain.vectorstores import FAISS\n",
    "from langchain.embeddings import HuggingFaceEmbeddings\n",
    "from langchain.chains.retrieval import create_retrieval_chain\n",
    "from langchain.chains.combine_documents import create_stuff_documents_chain\n",
    "from langchain_groq import ChatGroq\n",
    "from langchain.prompts import ChatPromptTemplate\n",
    "import os \n",
    "from dotenv import load_dotenv\n",
    "load_dotenv()"
   ]
  },
  {
   "cell_type": "code",
   "execution_count": 2,
   "id": "ce956a50",
   "metadata": {},
   "outputs": [
    {
     "name": "stderr",
     "output_type": "stream",
     "text": [
      "C:\\Users\\divya\\AppData\\Local\\Temp\\ipykernel_11392\\1275852531.py:4: LangChainDeprecationWarning: The class `HuggingFaceEmbeddings` was deprecated in LangChain 0.2.2 and will be removed in 1.0. An updated version of the class exists in the :class:`~langchain-huggingface package and should be used instead. To use it run `pip install -U :class:`~langchain-huggingface` and import as `from :class:`~langchain_huggingface import HuggingFaceEmbeddings``.\n",
      "  embedding = HuggingFaceEmbeddings(model_name='avsolatorio/GIST-small-Embedding-v0')\n"
     ]
    }
   ],
   "source": [
    "groq_api_key=os.getenv('GROQ_API_KEY')\n",
    "\n",
    "model = ChatGroq(model=\"Meta-Llama/Llama-4-Scout-17b-16e-Instruct\", groq_api_key=groq_api_key)\n",
    "embedding = HuggingFaceEmbeddings(model_name='avsolatorio/GIST-small-Embedding-v0')\n"
   ]
  },
  {
   "cell_type": "code",
   "execution_count": 9,
   "id": "8cbd5452",
   "metadata": {},
   "outputs": [],
   "source": [
    "folder_paths = [\n",
    "    \"pubmed_abstracts\",\n",
    "    \"harvard_articles\",\n",
    "    \"fdc_data\",\n",
    "    \"eatright_articles\"\n",
    "]"
   ]
  },
  {
   "cell_type": "code",
   "execution_count": 10,
   "id": "107edd76",
   "metadata": {},
   "outputs": [
    {
     "name": "stderr",
     "output_type": "stream",
     "text": [
      "100%|██████████| 80/80 [00:01<00:00, 72.29it/s]\n",
      "100%|██████████| 80/80 [00:01<00:00, 64.31it/s]\n",
      "100%|██████████| 80/80 [00:01<00:00, 67.32it/s]\n",
      "100%|██████████| 80/80 [00:00<00:00, 472.46it/s]"
     ]
    },
    {
     "name": "stdout",
     "output_type": "stream",
     "text": [
      "✅ Total documents loaded: 320\n"
     ]
    },
    {
     "name": "stderr",
     "output_type": "stream",
     "text": [
      "\n"
     ]
    }
   ],
   "source": [
    "all_documents = []\n",
    "\n",
    "for path in folder_paths:\n",
    "    loader = DirectoryLoader(\n",
    "        path,\n",
    "        glob=\"**/*.txt\",\n",
    "        loader_cls=TextLoader,\n",
    "        show_progress=True\n",
    "    )\n",
    "    documents = loader.load()\n",
    "    all_documents.extend(documents)\n",
    "print(f\"✅ Total documents loaded: {len(all_documents)}\")\n"
   ]
  },
  {
   "cell_type": "code",
   "execution_count": 12,
   "id": "d1ae3a1e",
   "metadata": {},
   "outputs": [
    {
     "name": "stdout",
     "output_type": "stream",
     "text": [
      "🧩 Total chunks after splitting: 9265\n"
     ]
    }
   ],
   "source": [
    "text_splitter = RecursiveCharacterTextSplitter(\n",
    "    chunk_size=2500,\n",
    "    chunk_overlap=600\n",
    ")\n",
    "split_docs = text_splitter.split_documents(all_documents)\n",
    "print(f\"🧩 Total chunks after splitting: {len(split_docs)}\")"
   ]
  },
  {
   "cell_type": "code",
   "execution_count": 13,
   "id": "57848de9",
   "metadata": {},
   "outputs": [],
   "source": [
    "vectorstore = FAISS.from_documents(split_docs, embedding)"
   ]
  },
  {
   "cell_type": "code",
   "execution_count": 14,
   "id": "74ca566e",
   "metadata": {},
   "outputs": [
    {
     "name": "stdout",
     "output_type": "stream",
     "text": [
      "💾 FAISS index saved to ./faiss_index\n"
     ]
    }
   ],
   "source": [
    "vectorstore.save_local(\"faiss_index\")\n",
    "print(\"💾 FAISS index saved to ./faiss_index\")"
   ]
  },
  {
   "cell_type": "code",
   "execution_count": 21,
   "id": "0f9a977a",
   "metadata": {},
   "outputs": [],
   "source": [
    "retriever = vectorstore.as_retriever()"
   ]
  },
  {
   "cell_type": "code",
   "execution_count": 26,
   "id": "f7c9bbdc",
   "metadata": {},
   "outputs": [],
   "source": [
    "prompt = ChatPromptTemplate.from_template(\"\"\"\n",
    "You are a nutrition AI assistant that gives dietary recommendations based on peer-reviewed research. \n",
    "\n",
    "Given a patient's health condition(s) and allergy profile, provide specific and research-backed nutrition advice.\n",
    "Use only medically accurate, peer-reviewed information. Cite nutritional reasoning if available.\n",
    "\n",
    "Patient Condition(s): {condition}\n",
    "Allergies: {allergies}\n",
    "\n",
    "Context from peer-reviewed articles:\n",
    "{context}\n",
    "\n",
    "What are the best dietary recommendations for this patient?\n",
    "\"\"\")\n"
   ]
  },
  {
   "cell_type": "code",
   "execution_count": 20,
   "id": "013fbc41",
   "metadata": {},
   "outputs": [],
   "source": [
    "document_chain = create_stuff_documents_chain(llm=model, prompt=prompt)"
   ]
  },
  {
   "cell_type": "code",
   "execution_count": 25,
   "id": "a3b86737",
   "metadata": {},
   "outputs": [
    {
     "name": "stdout",
     "output_type": "stream",
     "text": [
      "\n",
      "🧠 Dietary Recommendation:\n",
      "\n",
      "Given the patient's high blood pressure with diabetic symptoms and dairy allergies, I will provide dietary recommendations based on peer-reviewed research.\n",
      "\n",
      "Firstly, it's essential to note that the patient has dairy allergies, which means they need to avoid dairy products altogether. Fortunately, there are several non-dairy alternatives that can provide similar nutritional benefits.\n",
      "\n",
      "**For High Blood Pressure:**\n",
      "\n",
      "1. **Increase potassium intake**: Studies have shown that potassium can help lower blood pressure. Food sources rich in potassium include leafy greens (spinach, kale), fruits (bananas, berries), and legumes (lentils, chickpeas) (1).\n",
      "2. **Focus on calcium and magnesium-rich foods**: Although the patient is allergic to dairy, they can consume calcium and magnesium-rich non-dairy foods such as fortified plant-based milk, dark leafy greens, nuts (almonds, cashews), and seeds (sesame, pumpkin) (2, 3).\n",
      "3. **Incorporate omega-3 fatty acids**: Omega-3 fatty acids have been shown to help lower blood pressure. Food sources include fatty fish (salmon, sardines), flaxseeds, and walnuts (4).\n",
      "\n",
      "**For Diabetic Symptoms:**\n",
      "\n",
      "1. **Emphasize whole, unprocessed foods**: Focus on whole grains, vegetables, fruits, lean proteins, and healthy fats. This can help regulate blood sugar levels and improve insulin sensitivity (5).\n",
      "2. **Choose low-glycemic index foods**: Select foods with a low glycemic index, such as whole grains, non-starchy vegetables, and most fruits. These foods can help regulate blood sugar levels (6).\n",
      "\n",
      "**General Recommendations:**\n",
      "\n",
      "1. **Follow a balanced diet**: Focus on a variety of whole foods, including fruits, vegetables, whole grains, lean proteins, and healthy fats.\n",
      "2. **Stay hydrated**: Drink plenty of water and limit sugary drinks.\n",
      "3. **Limit sodium intake**: Aim for less than 2,300 milligrams of sodium per day (7).\n",
      "\n",
      "**Specific Food Recommendations:**\n",
      "\n",
      "1. **Non-dairy milk alternatives**: Choose fortified plant-based milk, such as almond milk, soy milk, or oat milk, which can provide calcium and vitamins similar to dairy milk.\n",
      "2. **Calcium-rich foods**: Include calcium-fortified plant-based milk, dark leafy greens, and tofu in your diet.\n",
      "3. **Magnesium-rich foods**: Include magnesium-rich foods like dark leafy greens, nuts, and seeds in your diet.\n",
      "\n",
      "**References:**\n",
      "\n",
      "1. Appel et al. (1997). A clinical trial of the effects of dietary patterns on blood pressure. New England Journal of Medicine, 336(16), 1117-1124.\n",
      "2. Rangan et al. (2012). The effect of dairy consumption on blood pressure in mid-childhood: CAPS cohort study. European Journal of Clinical Nutrition, 66(6), 652-657.\n",
      "3. Morejón-Terán et al. (2021). Association between dairy product intake and high blood pressure in Chilean adults. Journal of Preventive Medicine and Hygiene, 62(3), E681-E688.\n",
      "4. Kris-Etherton et al. (2002). Fish consumption, fish oil, omega-3 fatty acids, and cardiovascular disease. Circulation, 106(21), 2747-2757.\n",
      "5. Knowler et al. (2002). Reduction in the incidence of type 2 diabetes with lifestyle intervention or metformin. New England Journal of Medicine, 346(6), 393-403.\n",
      "6. Jenkins et al. (2002). Glycemic index of foods: a physiological basis for carbohydrate exchange. The American Journal of Clinical Nutrition, 76(1), 266-273.\n",
      "7. American Heart Association. (2017). Sodium and your health.\n",
      "\n",
      "In conclusion, a well-planned diet that takes into account the patient's dairy allergies and focuses on whole, unprocessed foods can help manage high blood pressure and diabetic symptoms. Consult with a registered dietitian or a healthcare professional for personalized nutrition advice.\n"
     ]
    }
   ],
   "source": [
    "# Get input from user\n",
    "condition = input(\"Enter patient condition(s): \")\n",
    "allergies = input(\"Enter patient allergy profile: \")\n",
    "\n",
    "# Combine into query string\n",
    "query = f\"{condition} {allergies}\"\n",
    "\n",
    "# Retrieve relevant documents\n",
    "relevant_docs = retriever.invoke(query)\n",
    "\n",
    "# Generate response using document chain\n",
    "response = document_chain.invoke({\n",
    "    \"condition\": condition,\n",
    "    \"allergies\": allergies,\n",
    "    \"context\": relevant_docs\n",
    "})\n",
    "\n",
    "# Display result\n",
    "print(\"\\n🧠 Dietary Recommendation:\\n\")\n",
    "print(response)\n"
   ]
  },
  {
   "cell_type": "code",
   "execution_count": null,
   "id": "72bc18af",
   "metadata": {},
   "outputs": [],
   "source": []
  },
  {
   "cell_type": "code",
   "execution_count": null,
   "id": "2ddc33c9",
   "metadata": {},
   "outputs": [],
   "source": []
  },
  {
   "cell_type": "code",
   "execution_count": null,
   "id": "08438e3d",
   "metadata": {},
   "outputs": [],
   "source": []
  },
  {
   "cell_type": "code",
   "execution_count": null,
   "id": "fbf46fdc",
   "metadata": {},
   "outputs": [],
   "source": []
  }
 ],
 "metadata": {
  "kernelspec": {
   "display_name": "Python 3",
   "language": "python",
   "name": "python3"
  },
  "language_info": {
   "codemirror_mode": {
    "name": "ipython",
    "version": 3
   },
   "file_extension": ".py",
   "mimetype": "text/x-python",
   "name": "python",
   "nbconvert_exporter": "python",
   "pygments_lexer": "ipython3",
   "version": "3.10.0"
  }
 },
 "nbformat": 4,
 "nbformat_minor": 5
}
